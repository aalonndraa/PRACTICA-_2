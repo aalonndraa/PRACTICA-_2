{
  "nbformat": 4,
  "nbformat_minor": 0,
  "metadata": {
    "colab": {
      "provenance": []
    },
    "kernelspec": {
      "name": "python3",
      "display_name": "Python 3"
    },
    "language_info": {
      "name": "python"
    }
  },
  "cells": [
    {
      "cell_type": "code",
      "execution_count": 1,
      "metadata": {
        "id": "5IQayrW3IkCQ"
      },
      "outputs": [],
      "source": [
        "import random\n",
        "\n",
        "class Cliente:\n",
        "  \"\"\"\n",
        "  Crea un Cliente con un ID único y define si es \"premier\" o no.\n",
        "  \"\"\"\n",
        "  def __init__ (self, cliente_id, es_premier=False):\n",
        "    self.cliente_id = cliente_id # Un número que identifica al cliente.\n",
        "    self.es_premier = es_premier # Localizar si es un cliente premier o no.\n",
        "    self.tiempo_atención = random.randint (5,10) #los minutos aleatorios de tiempo que el cliente será atendido (entre 1 a 81).\n",
        "\n",
        "  def __str__ (self):\n",
        "    \"\"\"\n",
        "    Muestra información del cliente de manera facil de leer.\n",
        "    \"\"\"\n",
        "    tipo_cliente = \"Premier\" if self.es_premier else \"Normal\"\n",
        "    return f\"Cliente {self.cliente_i} ({tipo_client}): Tiempo de atención {self.tiempo_atención: .2f} minutos\""
      ]
    },
    {
      "cell_type": "code",
      "source": [
        "from collections import deque\n",
        "\n",
        "class cola_de_clientes:\n",
        "  \"\"\"\n",
        "  La cola para gestionar los clientes, los premier tienen prioridad.\n",
        "  \"\"\"\n",
        "  def __init__ (self):\n",
        "    self.cola_premier = deque () ##Cola para clientes premier.\n",
        "    self.cola_normal = deque () #Cola para clientes normales.\n",
        "\n",
        "    def agregar_cliente (self, cliente):\n",
        "      if cliente.es_premier:\n",
        "        self.cola_premier.append (cliente)\n",
        "\n",
        "      else:\n",
        "        self.cola_normal.append (cliente)\n",
        "\n",
        "    def siguiente_cliente (self):\n",
        "      if self.cola_premier:\n",
        "        return self.cola_premier.popleft () #Redirecciona a los clientes premier en caso de haber alguno.\n",
        "\n",
        "      elif self.cola_normal:\n",
        "        return self.cola_normal.popleft () #Atiende a los clientes normales (en caso de haber un premier atiende a ese.)\n",
        "      return None #sí no hay más clientes en ninguna cola\n",
        "\n",
        "    def esta_vacía (self):\n",
        "      return not self.cola_premier and not self.cola_normal\n",
        "\n"
      ],
      "metadata": {
        "id": "BDjm0wXdqZwj"
      },
      "execution_count": 2,
      "outputs": []
    },
    {
      "cell_type": "code",
      "source": [
        "class simulación_centro_de_llamadas_telefónicas:\n",
        "  \"\"\"\n",
        "  Simula la atención a clientes en un centro de llamadas.\n",
        "  \"\"\"\n",
        "\n",
        "def __init__ (self, num_lineas, tiempo_simulacion):\n",
        "  self.num_lineas = num_lineas #cantidad de operadores\n",
        "  self.tiempo_simulacion = tiempo_simulacion #tiempo de duración de la llamada.\n",
        "  self.cola_clientes = cola_de_clientes () #Clientes que esperan l llamada.\n",
        "  self.lineas_ocupadas = 0\n",
        "  self.clientes_atendidos = 0\n",
        "  self.tiempo_espera_clientes_premier = []\n",
        "  self.tiempo_espera_clientes_normales = []\n",
        "\n",
        "def ejecutar_simulacion (self):\n",
        "  \"\"\"\n",
        "  Ejecutar la Simulación del Centro de Llamadas: Los Clientes llegan y son atendidos en orden.\n",
        "  \"\"\"\n",
        "  tiempo_actual = 0\n",
        "  id_cliente = 1\n",
        "\n",
        "  while tiempo_actual < self.tiempo_simulacion or not self.cola_clientes.esta_vacia ():\n",
        "    #Crear un nuevo cliente\n",
        "    es_premier = random.random() < (1/6)\n",
        "    nuevo_cliente = Cliente (id_cliente , es_premier)\n",
        "    self.cola_clientes.agregar_cliente (nuevo_cliente)\n",
        "    print (f\"El cliente {nuevo_cliente} se unió a la fila de espera\")\n",
        "\n",
        "    #Atender a los clientes con las lineas Telefónicas disponibles.\n",
        "  while self.lineas_ocupadas < self.num_lineas and not self.cola_clientes.esta_vacia ():\n",
        "   cliente_atendido = self.cola_clientes.siguiente_cliente ()\n",
        "  self.atender_cliente (cliente_atender, tiempo_actual)\n",
        "  self.lineas_ocupadas += 1\n",
        "  id_cliente += 1\n",
        "\n",
        "  #Simular el tiempo de espera\n",
        "  tiempo_llegada = random.uniform (1,4)\n",
        "  tiempo_actual += tiempo_llegada\n",
        "\n",
        "  def atender_cliente (self, cliente, tiempo_actual):\n",
        "    \"\"\"\n",
        "    Atiende a un cliente en la linea telefónica disponible\n",
        "    \"\"\"\n",
        "    self.clientes_atendidos += 1\n",
        "    tiempo_espera = tiempo_actual - cliente.tiempo_atencion\n",
        "\n",
        "    if cliente.es_premier:\n",
        "      self.tiempo_espera_clientes_premier.append (tiempo_espera)\n",
        "\n",
        "    print (f\"Atendiendo a cliente {cliente} a los {tiempo_actual:.2f} minutos.\")\n",
        "\n",
        "    def resultados (self):\n",
        "\n",
        "      \"\"\"\n",
        "      Imprimir resultados de simulación.\n",
        "      \"\"\"\n",
        "      print (f\"Numero de clientes atendidos {self.clientes_atendidos}\")\n",
        "      if self.tiempo_espera_clientes_premier:\n",
        "        maximo_tiempo_espera_premier = max (self.tiempo_espera_clientes_premier)\n",
        "        print (f\"Tiempo maximo de espera para clientes premier: {maximo_tiempo_espera_premier: .2f} minutos \")\n",
        "\n",
        "      else:\n",
        "          print (\"No hay clientes premier por ser atendidos.\")\n",
        "\n",
        "      if __name__ == \"__main__\":\n",
        "      #Simulación con 27 lineas durante 12 horas (720 minutos)\n",
        "         num_lineas = 27\n",
        "         tiempo_simulacion = 720\n",
        "         simulacion = simulacion_centro_de_llamadas_telefonicas (num_lineas=27, tiempo_simulacion=720)\n",
        "         simulacion.ejecutar_simulacion ()\n",
        "         simulacion.resultados ()\n"
      ],
      "metadata": {
        "id": "LHG70yppwSri"
      },
      "execution_count": 3,
      "outputs": []
    },
    {
      "cell_type": "code",
      "source": [],
      "metadata": {
        "id": "5HTLykHJuqfv"
      },
      "execution_count": 3,
      "outputs": []
    }
  ]
}